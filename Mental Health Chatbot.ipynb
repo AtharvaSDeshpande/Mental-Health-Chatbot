{
 "cells": [
  {
   "cell_type": "code",
   "execution_count": 1,
   "id": "a34570e7",
   "metadata": {},
   "outputs": [],
   "source": [
    "import random\n",
    "import string\n",
    "from sklearn.feature_extraction.text import CountVectorizer\n",
    "from sklearn.metrics.pairwise import cosine_similarity\n",
    "import numpy as np\n",
    "import pandas as pd\n",
    "import warnings\n",
    "warnings.filterwarnings('ignore')"
   ]
  },
  {
   "cell_type": "code",
   "execution_count": 2,
   "id": "4ae6b691",
   "metadata": {},
   "outputs": [],
   "source": [
    "# Read data from the csv file, and remove the unwanted ID column\n",
    "data = pd.read_csv('mentalHealth.csv', delimiter = ',')\n",
    "data = data.drop(['Question_ID'],axis = 1)"
   ]
  },
  {
   "cell_type": "code",
   "execution_count": 3,
   "id": "8c4a12b0",
   "metadata": {},
   "outputs": [],
   "source": [
    "#  Function to respond to the greetings\n",
    "def greetingResponse(text):\n",
    "   text = text.lower()\n",
    "   bot_greetings = ['Hi! How may I help you?','Hello there! How may I help you?','Hey how may I help you?','Whats Up, ask me any question related to mental health, I will try my best to answer your queries']\n",
    "   user_greetings = ['hi','hey','hello','hola']\n",
    "   for word in text.split():\n",
    "     if word in user_greetings:\n",
    "       return random.choice(bot_greetings)"
   ]
  },
  {
   "cell_type": "code",
   "execution_count": 4,
   "id": "790b5877",
   "metadata": {},
   "outputs": [],
   "source": [
    "# Function to sort the indexes of the values present in list_var\n",
    "def index_sort(list_var):\n",
    "  length = len(list_var)\n",
    "  list_index = list(range(0,length))\n",
    "  x = list_var\n",
    "  for i in range (length):\n",
    "    for j in range (length):\n",
    "      if (x[list_index[i]]<x[list_index[j]]):\n",
    "        temp = list_index[i]\n",
    "        list_index[i] = list_index[j]\n",
    "        list_index[j] = temp\n",
    "\n",
    "  return list_index"
   ]
  },
  {
   "cell_type": "code",
   "execution_count": 5,
   "id": "b2a8b59f",
   "metadata": {},
   "outputs": [],
   "source": [
    "# Function which responds to the questions using AI \n",
    "def botResponse(user_input):\n",
    "  bot_response = '' \n",
    "  bot_question = ''  \n",
    "  user_input = user_input.lower()\n",
    "  # Append the question to the list\n",
    "  sentence_list.append(user_input)\n",
    "  # Using CountVectorizer().fit_transform() method, get decimal equivalents of all the questions in the list\n",
    "  cm = CountVectorizer().fit_transform(sentence_list)\n",
    "  # Find similarity of the question asked by the user with all the questions present in the dataset, and then flatten the list.\n",
    "  similarity_scores = cosine_similarity(cm[-1],cm)\n",
    "  similarity_scores_list = similarity_scores.flatten()\n",
    "  # Sort the list, to find the question, inseted by the user and then remove that index.\n",
    "  index = index_sort(similarity_scores_list)\n",
    "  index  = index [:-1]\n",
    "  # Set variable response_flag, to False.\n",
    "  response_flag = False\n",
    "  j = 0\n",
    "  # Set variable score_i to any (min match percentage), to find whether the question is present in the list or not.  \n",
    "  # 50% is chosen\n",
    "  score_i = 0.5  \n",
    "  # Find the highest similarity score present in the list, altleast greater than set score_i\n",
    "  for i in range (len(index)):\n",
    "    if similarity_scores_list[index[i]] > score_i:\n",
    "      score_i = similarity_scores_list[index[i]]\n",
    "      bot_question = sentence_list[index[i]]\n",
    "      bot_response = answer_list[index[i]]\n",
    "      response_flag = True\n",
    "  if response_flag == False:\n",
    "    bot_question = 'Unable to detect'\n",
    "    bot_response = 'I am not sure I understand' \n",
    "  sentence_list.remove(user_input)\n",
    "\n",
    "  return bot_question,bot_response"
   ]
  },
  {
   "cell_type": "code",
   "execution_count": 6,
   "id": "4f54aee1",
   "metadata": {
    "scrolled": true
   },
   "outputs": [
    {
     "name": "stdout",
     "output_type": "stream",
     "text": [
      "Bot: Hello, this is Healthify Me, your virtual assistant, ask me any question related to Mental Health or enter Bye to exit\n",
      "\n",
      "You: Hey how are you?\n",
      "Bot Interprets the question as: Hey how are you?\n",
      "Answer: Hello there! How may I help you?\n",
      "\n",
      "You: Is it possible for people with mental illness to recover?\n",
      "Bot Interprets the question as: Can people with mental illness recover?\n",
      "Answer: When healing from mental illness, early identification and treatment are of vital importance. Based on the nature of the illness, there are a range of effective treatments available. For any type of treatment, it is essential that the person affected is proactive and fully engaged in their own recovery process.\n",
      "Many people with mental illnesses who are diagnosed and treated respond well, although some might experience a return of symptoms. Even in such cases, with careful monitoring and management of the disorder, it is still quite possible to live a fulfilled and productive life.\n",
      "\n",
      "You: People with mental illness can recover?\n",
      "Bot Interprets the question as: Can people with mental illness recover?\n",
      "Answer: When healing from mental illness, early identification and treatment are of vital importance. Based on the nature of the illness, there are a range of effective treatments available. For any type of treatment, it is essential that the person affected is proactive and fully engaged in their own recovery process.\n",
      "Many people with mental illnesses who are diagnosed and treated respond well, although some might experience a return of symptoms. Even in such cases, with careful monitoring and management of the disorder, it is still quite possible to live a fulfilled and productive life.\n",
      "\n",
      "You: Define Mental Health?\n",
      "Bot Interprets the question as: What is mental health?\n",
      "Answer: We all have mental health which is made up of our beliefs, thoughts, feelings and behaviours.\n",
      "\n",
      "You: Give me more information about depression?\n",
      "Bot Interprets the question as: Where can I find more information about depression?\n",
      "Answer: Our info sheets on mood disorders, bipolar disorder, and depression offer information on mood problems, treatment options, and resources in BC. We also offer What is Depression? It’s a booklet with audio in plain language for lower literacy readers. You can take a screening self-test for depression (and other mental health concerns). The adult depression tool also screens for signs of bipolar disorder. \n",
      " If you want to go beyond the basics, our Managing Depression series can help you deal with a diagnosis of depression, work with doctor, and prevent relapse of depression. You’ll also find many experiences and perspectives around depression—reading personal stories can help you feel less alone.\n",
      "\n",
      "You: Define Object oriented programming?\n",
      "Bot Interprets the question as: Unable to detect\n",
      "Answer: I am not sure I understand\n",
      "\n",
      "You: Differences in C, C++, Java and Python?\n",
      "Bot Interprets the question as: Unable to detect\n",
      "Answer: I am not sure I understand\n",
      "\n",
      "You: Bye\n",
      "Bot: Bye! See you later\n"
     ]
    }
   ],
   "source": [
    "print (\"Bot: Hello, this is Healthify Me, your virtual assistant, ask me any question related to Mental Health or enter Bye to exit\")\n",
    "data = pd.read_csv('mentalHealth.csv', delimiter = ',')\n",
    "data.drop(['Question_ID'],axis = 1)\n",
    "while(True):\n",
    "  sentence_list = data['Questions'].tolist()\n",
    "  answer_list = data['Answers'].tolist()\n",
    "  type (sentence_list)\n",
    "  print('')\n",
    "  user_Input = input(\"You: \")\n",
    "  if user_Input.lower() == 'bye':\n",
    "    print('Bot: Bye! See you later')\n",
    "    break\n",
    "  else:\n",
    "    response = greetingResponse(user_Input)\n",
    "    if  response != None:\n",
    "      print('Bot Interprets the question as: ' + user_Input)\n",
    "      print ('Answer: ' + str(response))\n",
    "    else:\n",
    "      question,response = botResponse(user_Input)\n",
    "      print('Bot Interprets the question as: ' + str(question))\n",
    "      print('Answer: ' + str(response))"
   ]
  }
 ],
 "metadata": {
  "kernelspec": {
   "display_name": "Python 3",
   "language": "python",
   "name": "python3"
  },
  "language_info": {
   "codemirror_mode": {
    "name": "ipython",
    "version": 3
   },
   "file_extension": ".py",
   "mimetype": "text/x-python",
   "name": "python",
   "nbconvert_exporter": "python",
   "pygments_lexer": "ipython3",
   "version": "3.8.8"
  }
 },
 "nbformat": 4,
 "nbformat_minor": 5
}
